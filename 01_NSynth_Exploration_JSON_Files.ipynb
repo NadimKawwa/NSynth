{
 "cells": [
  {
   "cell_type": "code",
   "execution_count": 35,
   "metadata": {},
   "outputs": [],
   "source": [
    "import numpy as np\n",
    "import pandas as pd\n",
    "import matplotlib.pyplot as plt"
   ]
  },
  {
   "cell_type": "markdown",
   "metadata": {},
   "source": [
    "## Load the JSON files"
   ]
  },
  {
   "cell_type": "code",
   "execution_count": 36,
   "metadata": {},
   "outputs": [],
   "source": [
    "#directory to training data and json file\n",
    "train_dir='/Users/nadimkawwa/Desktop/Udacity/MLEND/Capstone/nsynth-train/examples.json'\n",
    "#directory to training data and json file\n",
    "valid_dir='/Users/nadimkawwa/Desktop/Udacity/MLEND/Capstone/nsynth-valid/examples.json'\n",
    "#directory to training data and json file\n",
    "test_dir='/Users/nadimkawwa/Desktop/Udacity/MLEND/Capstone/nsynth-test/examples.json'"
   ]
  },
  {
   "cell_type": "code",
   "execution_count": 37,
   "metadata": {},
   "outputs": [],
   "source": [
    "#load the json files\n",
    "df_train= pd.read_json(train_dir, orient='index')\n",
    "df_valid= pd.read_json(valid_dir, orient='index')\n",
    "df_test= pd.read_json(test_dir, orient='index')\n"
   ]
  },
  {
   "cell_type": "code",
   "execution_count": 38,
   "metadata": {},
   "outputs": [
    {
     "data": {
      "text/html": [
       "<div>\n",
       "<style scoped>\n",
       "    .dataframe tbody tr th:only-of-type {\n",
       "        vertical-align: middle;\n",
       "    }\n",
       "\n",
       "    .dataframe tbody tr th {\n",
       "        vertical-align: top;\n",
       "    }\n",
       "\n",
       "    .dataframe thead th {\n",
       "        text-align: right;\n",
       "    }\n",
       "</style>\n",
       "<table border=\"1\" class=\"dataframe\">\n",
       "  <thead>\n",
       "    <tr style=\"text-align: right;\">\n",
       "      <th></th>\n",
       "      <th>instrument</th>\n",
       "      <th>instrument_family</th>\n",
       "      <th>instrument_family_str</th>\n",
       "      <th>instrument_source</th>\n",
       "      <th>instrument_source_str</th>\n",
       "      <th>instrument_str</th>\n",
       "      <th>note</th>\n",
       "      <th>note_str</th>\n",
       "      <th>pitch</th>\n",
       "      <th>qualities</th>\n",
       "      <th>qualities_str</th>\n",
       "      <th>sample_rate</th>\n",
       "      <th>velocity</th>\n",
       "    </tr>\n",
       "  </thead>\n",
       "  <tbody>\n",
       "    <tr>\n",
       "      <th>guitar_acoustic_001-082-050</th>\n",
       "      <td>39</td>\n",
       "      <td>3</td>\n",
       "      <td>guitar</td>\n",
       "      <td>0</td>\n",
       "      <td>acoustic</td>\n",
       "      <td>guitar_acoustic_001</td>\n",
       "      <td>16629</td>\n",
       "      <td>guitar_acoustic_001-082-050</td>\n",
       "      <td>82</td>\n",
       "      <td>[0, 0, 0, 0, 0, 0, 0, 1, 0, 0]</td>\n",
       "      <td>[percussive]</td>\n",
       "      <td>16000</td>\n",
       "      <td>50</td>\n",
       "    </tr>\n",
       "    <tr>\n",
       "      <th>bass_synthetic_120-108-050</th>\n",
       "      <td>881</td>\n",
       "      <td>0</td>\n",
       "      <td>bass</td>\n",
       "      <td>2</td>\n",
       "      <td>synthetic</td>\n",
       "      <td>bass_synthetic_120</td>\n",
       "      <td>168243</td>\n",
       "      <td>bass_synthetic_120-108-050</td>\n",
       "      <td>108</td>\n",
       "      <td>[0, 0, 0, 0, 0, 0, 0, 1, 0, 0]</td>\n",
       "      <td>[percussive]</td>\n",
       "      <td>16000</td>\n",
       "      <td>50</td>\n",
       "    </tr>\n",
       "  </tbody>\n",
       "</table>\n",
       "</div>"
      ],
      "text/plain": [
       "                             instrument  instrument_family  \\\n",
       "guitar_acoustic_001-082-050          39                  3   \n",
       "bass_synthetic_120-108-050          881                  0   \n",
       "\n",
       "                            instrument_family_str  instrument_source  \\\n",
       "guitar_acoustic_001-082-050                guitar                  0   \n",
       "bass_synthetic_120-108-050                   bass                  2   \n",
       "\n",
       "                            instrument_source_str       instrument_str  \\\n",
       "guitar_acoustic_001-082-050              acoustic  guitar_acoustic_001   \n",
       "bass_synthetic_120-108-050              synthetic   bass_synthetic_120   \n",
       "\n",
       "                               note                     note_str  pitch  \\\n",
       "guitar_acoustic_001-082-050   16629  guitar_acoustic_001-082-050     82   \n",
       "bass_synthetic_120-108-050   168243   bass_synthetic_120-108-050    108   \n",
       "\n",
       "                                                  qualities qualities_str  \\\n",
       "guitar_acoustic_001-082-050  [0, 0, 0, 0, 0, 0, 0, 1, 0, 0]  [percussive]   \n",
       "bass_synthetic_120-108-050   [0, 0, 0, 0, 0, 0, 0, 1, 0, 0]  [percussive]   \n",
       "\n",
       "                             sample_rate  velocity  \n",
       "guitar_acoustic_001-082-050        16000        50  \n",
       "bass_synthetic_120-108-050         16000        50  "
      ]
     },
     "execution_count": 38,
     "metadata": {},
     "output_type": "execute_result"
    }
   ],
   "source": [
    "df_train.head(2)"
   ]
  },
  {
   "cell_type": "code",
   "execution_count": 39,
   "metadata": {},
   "outputs": [
    {
     "data": {
      "text/plain": [
       "(289205, 13)"
      ]
     },
     "execution_count": 39,
     "metadata": {},
     "output_type": "execute_result"
    }
   ],
   "source": [
    "df_train.shape"
   ]
  },
  {
   "cell_type": "code",
   "execution_count": 40,
   "metadata": {},
   "outputs": [
    {
     "data": {
      "text/plain": [
       "instrument               False\n",
       "instrument_family        False\n",
       "instrument_family_str    False\n",
       "instrument_source        False\n",
       "instrument_source_str    False\n",
       "instrument_str           False\n",
       "note                     False\n",
       "note_str                 False\n",
       "pitch                    False\n",
       "qualities                False\n",
       "qualities_str            False\n",
       "sample_rate              False\n",
       "velocity                 False\n",
       "dtype: bool"
      ]
     },
     "execution_count": 40,
     "metadata": {},
     "output_type": "execute_result"
    }
   ],
   "source": [
    "#check for missing values\n",
    "df_train.isna().any(axis=0)"
   ]
  },
  {
   "cell_type": "code",
   "execution_count": 41,
   "metadata": {},
   "outputs": [
    {
     "data": {
      "text/html": [
       "<div>\n",
       "<style scoped>\n",
       "    .dataframe tbody tr th:only-of-type {\n",
       "        vertical-align: middle;\n",
       "    }\n",
       "\n",
       "    .dataframe tbody tr th {\n",
       "        vertical-align: top;\n",
       "    }\n",
       "\n",
       "    .dataframe thead th {\n",
       "        text-align: right;\n",
       "    }\n",
       "</style>\n",
       "<table border=\"1\" class=\"dataframe\">\n",
       "  <thead>\n",
       "    <tr style=\"text-align: right;\">\n",
       "      <th></th>\n",
       "      <th>instrument</th>\n",
       "      <th>instrument_family</th>\n",
       "      <th>instrument_family_str</th>\n",
       "      <th>instrument_source</th>\n",
       "      <th>instrument_source_str</th>\n",
       "      <th>instrument_str</th>\n",
       "      <th>note</th>\n",
       "      <th>note_str</th>\n",
       "      <th>pitch</th>\n",
       "      <th>qualities</th>\n",
       "      <th>qualities_str</th>\n",
       "      <th>sample_rate</th>\n",
       "      <th>velocity</th>\n",
       "    </tr>\n",
       "  </thead>\n",
       "  <tbody>\n",
       "    <tr>\n",
       "      <th>keyboard_acoustic_004-060-025</th>\n",
       "      <td>327</td>\n",
       "      <td>4</td>\n",
       "      <td>keyboard</td>\n",
       "      <td>0</td>\n",
       "      <td>acoustic</td>\n",
       "      <td>keyboard_acoustic_004</td>\n",
       "      <td>278915</td>\n",
       "      <td>keyboard_acoustic_004-060-025</td>\n",
       "      <td>60</td>\n",
       "      <td>[0, 1, 0, 0, 0, 0, 0, 0, 1, 0]</td>\n",
       "      <td>[dark, reverb]</td>\n",
       "      <td>16000</td>\n",
       "      <td>25</td>\n",
       "    </tr>\n",
       "    <tr>\n",
       "      <th>bass_synthetic_033-050-100</th>\n",
       "      <td>417</td>\n",
       "      <td>0</td>\n",
       "      <td>bass</td>\n",
       "      <td>2</td>\n",
       "      <td>synthetic</td>\n",
       "      <td>bass_synthetic_033</td>\n",
       "      <td>270361</td>\n",
       "      <td>bass_synthetic_033-050-100</td>\n",
       "      <td>50</td>\n",
       "      <td>[0, 1, 0, 0, 0, 0, 0, 0, 0, 0]</td>\n",
       "      <td>[dark]</td>\n",
       "      <td>16000</td>\n",
       "      <td>100</td>\n",
       "    </tr>\n",
       "  </tbody>\n",
       "</table>\n",
       "</div>"
      ],
      "text/plain": [
       "                               instrument  instrument_family  \\\n",
       "keyboard_acoustic_004-060-025         327                  4   \n",
       "bass_synthetic_033-050-100            417                  0   \n",
       "\n",
       "                              instrument_family_str  instrument_source  \\\n",
       "keyboard_acoustic_004-060-025              keyboard                  0   \n",
       "bass_synthetic_033-050-100                     bass                  2   \n",
       "\n",
       "                              instrument_source_str         instrument_str  \\\n",
       "keyboard_acoustic_004-060-025              acoustic  keyboard_acoustic_004   \n",
       "bass_synthetic_033-050-100                synthetic     bass_synthetic_033   \n",
       "\n",
       "                                 note                       note_str  pitch  \\\n",
       "keyboard_acoustic_004-060-025  278915  keyboard_acoustic_004-060-025     60   \n",
       "bass_synthetic_033-050-100     270361     bass_synthetic_033-050-100     50   \n",
       "\n",
       "                                                    qualities   qualities_str  \\\n",
       "keyboard_acoustic_004-060-025  [0, 1, 0, 0, 0, 0, 0, 0, 1, 0]  [dark, reverb]   \n",
       "bass_synthetic_033-050-100     [0, 1, 0, 0, 0, 0, 0, 0, 0, 0]          [dark]   \n",
       "\n",
       "                               sample_rate  velocity  \n",
       "keyboard_acoustic_004-060-025        16000        25  \n",
       "bass_synthetic_033-050-100           16000       100  "
      ]
     },
     "execution_count": 41,
     "metadata": {},
     "output_type": "execute_result"
    }
   ],
   "source": [
    "df_valid.head(2)"
   ]
  },
  {
   "cell_type": "code",
   "execution_count": 42,
   "metadata": {},
   "outputs": [
    {
     "data": {
      "text/plain": [
       "(12678, 13)"
      ]
     },
     "execution_count": 42,
     "metadata": {},
     "output_type": "execute_result"
    }
   ],
   "source": [
    "df_valid.shape"
   ]
  },
  {
   "cell_type": "code",
   "execution_count": 43,
   "metadata": {},
   "outputs": [
    {
     "data": {
      "text/plain": [
       "instrument               False\n",
       "instrument_family        False\n",
       "instrument_family_str    False\n",
       "instrument_source        False\n",
       "instrument_source_str    False\n",
       "instrument_str           False\n",
       "note                     False\n",
       "note_str                 False\n",
       "pitch                    False\n",
       "qualities                False\n",
       "qualities_str            False\n",
       "sample_rate              False\n",
       "velocity                 False\n",
       "dtype: bool"
      ]
     },
     "execution_count": 43,
     "metadata": {},
     "output_type": "execute_result"
    }
   ],
   "source": [
    "#check for missing values\n",
    "df_valid.isna().any(axis=0)"
   ]
  },
  {
   "cell_type": "code",
   "execution_count": 44,
   "metadata": {},
   "outputs": [
    {
     "data": {
      "text/html": [
       "<div>\n",
       "<style scoped>\n",
       "    .dataframe tbody tr th:only-of-type {\n",
       "        vertical-align: middle;\n",
       "    }\n",
       "\n",
       "    .dataframe tbody tr th {\n",
       "        vertical-align: top;\n",
       "    }\n",
       "\n",
       "    .dataframe thead th {\n",
       "        text-align: right;\n",
       "    }\n",
       "</style>\n",
       "<table border=\"1\" class=\"dataframe\">\n",
       "  <thead>\n",
       "    <tr style=\"text-align: right;\">\n",
       "      <th></th>\n",
       "      <th>instrument</th>\n",
       "      <th>instrument_family</th>\n",
       "      <th>instrument_family_str</th>\n",
       "      <th>instrument_source</th>\n",
       "      <th>instrument_source_str</th>\n",
       "      <th>instrument_str</th>\n",
       "      <th>note</th>\n",
       "      <th>note_str</th>\n",
       "      <th>pitch</th>\n",
       "      <th>qualities</th>\n",
       "      <th>qualities_str</th>\n",
       "      <th>sample_rate</th>\n",
       "      <th>velocity</th>\n",
       "    </tr>\n",
       "  </thead>\n",
       "  <tbody>\n",
       "    <tr>\n",
       "      <th>bass_synthetic_068-049-025</th>\n",
       "      <td>656</td>\n",
       "      <td>0</td>\n",
       "      <td>bass</td>\n",
       "      <td>2</td>\n",
       "      <td>synthetic</td>\n",
       "      <td>bass_synthetic_068</td>\n",
       "      <td>217499</td>\n",
       "      <td>bass_synthetic_068-049-025</td>\n",
       "      <td>49</td>\n",
       "      <td>[0, 1, 0, 0, 0, 0, 0, 0, 0, 0]</td>\n",
       "      <td>[dark]</td>\n",
       "      <td>16000</td>\n",
       "      <td>25</td>\n",
       "    </tr>\n",
       "    <tr>\n",
       "      <th>keyboard_electronic_001-021-127</th>\n",
       "      <td>40</td>\n",
       "      <td>4</td>\n",
       "      <td>keyboard</td>\n",
       "      <td>1</td>\n",
       "      <td>electronic</td>\n",
       "      <td>keyboard_electronic_001</td>\n",
       "      <td>299359</td>\n",
       "      <td>keyboard_electronic_001-021-127</td>\n",
       "      <td>21</td>\n",
       "      <td>[0, 0, 0, 0, 0, 0, 0, 0, 0, 0]</td>\n",
       "      <td>[]</td>\n",
       "      <td>16000</td>\n",
       "      <td>127</td>\n",
       "    </tr>\n",
       "    <tr>\n",
       "      <th>guitar_acoustic_010-066-100</th>\n",
       "      <td>219</td>\n",
       "      <td>3</td>\n",
       "      <td>guitar</td>\n",
       "      <td>0</td>\n",
       "      <td>acoustic</td>\n",
       "      <td>guitar_acoustic_010</td>\n",
       "      <td>72288</td>\n",
       "      <td>guitar_acoustic_010-066-100</td>\n",
       "      <td>66</td>\n",
       "      <td>[0, 0, 0, 0, 0, 0, 0, 0, 0, 0]</td>\n",
       "      <td>[]</td>\n",
       "      <td>16000</td>\n",
       "      <td>100</td>\n",
       "    </tr>\n",
       "    <tr>\n",
       "      <th>reed_acoustic_037-068-127</th>\n",
       "      <td>387</td>\n",
       "      <td>7</td>\n",
       "      <td>reed</td>\n",
       "      <td>0</td>\n",
       "      <td>acoustic</td>\n",
       "      <td>reed_acoustic_037</td>\n",
       "      <td>22259</td>\n",
       "      <td>reed_acoustic_037-068-127</td>\n",
       "      <td>68</td>\n",
       "      <td>[0, 0, 0, 0, 0, 0, 0, 0, 1, 0]</td>\n",
       "      <td>[reverb]</td>\n",
       "      <td>16000</td>\n",
       "      <td>127</td>\n",
       "    </tr>\n",
       "    <tr>\n",
       "      <th>flute_acoustic_002-077-100</th>\n",
       "      <td>86</td>\n",
       "      <td>2</td>\n",
       "      <td>flute</td>\n",
       "      <td>0</td>\n",
       "      <td>acoustic</td>\n",
       "      <td>flute_acoustic_002</td>\n",
       "      <td>72001</td>\n",
       "      <td>flute_acoustic_002-077-100</td>\n",
       "      <td>77</td>\n",
       "      <td>[0, 0, 0, 0, 0, 0, 0, 0, 1, 0]</td>\n",
       "      <td>[reverb]</td>\n",
       "      <td>16000</td>\n",
       "      <td>100</td>\n",
       "    </tr>\n",
       "  </tbody>\n",
       "</table>\n",
       "</div>"
      ],
      "text/plain": [
       "                                 instrument  instrument_family  \\\n",
       "bass_synthetic_068-049-025              656                  0   \n",
       "keyboard_electronic_001-021-127          40                  4   \n",
       "guitar_acoustic_010-066-100             219                  3   \n",
       "reed_acoustic_037-068-127               387                  7   \n",
       "flute_acoustic_002-077-100               86                  2   \n",
       "\n",
       "                                instrument_family_str  instrument_source  \\\n",
       "bass_synthetic_068-049-025                       bass                  2   \n",
       "keyboard_electronic_001-021-127              keyboard                  1   \n",
       "guitar_acoustic_010-066-100                    guitar                  0   \n",
       "reed_acoustic_037-068-127                        reed                  0   \n",
       "flute_acoustic_002-077-100                      flute                  0   \n",
       "\n",
       "                                instrument_source_str  \\\n",
       "bass_synthetic_068-049-025                  synthetic   \n",
       "keyboard_electronic_001-021-127            electronic   \n",
       "guitar_acoustic_010-066-100                  acoustic   \n",
       "reed_acoustic_037-068-127                    acoustic   \n",
       "flute_acoustic_002-077-100                   acoustic   \n",
       "\n",
       "                                          instrument_str    note  \\\n",
       "bass_synthetic_068-049-025            bass_synthetic_068  217499   \n",
       "keyboard_electronic_001-021-127  keyboard_electronic_001  299359   \n",
       "guitar_acoustic_010-066-100          guitar_acoustic_010   72288   \n",
       "reed_acoustic_037-068-127              reed_acoustic_037   22259   \n",
       "flute_acoustic_002-077-100            flute_acoustic_002   72001   \n",
       "\n",
       "                                                        note_str  pitch  \\\n",
       "bass_synthetic_068-049-025            bass_synthetic_068-049-025     49   \n",
       "keyboard_electronic_001-021-127  keyboard_electronic_001-021-127     21   \n",
       "guitar_acoustic_010-066-100          guitar_acoustic_010-066-100     66   \n",
       "reed_acoustic_037-068-127              reed_acoustic_037-068-127     68   \n",
       "flute_acoustic_002-077-100            flute_acoustic_002-077-100     77   \n",
       "\n",
       "                                                      qualities qualities_str  \\\n",
       "bass_synthetic_068-049-025       [0, 1, 0, 0, 0, 0, 0, 0, 0, 0]        [dark]   \n",
       "keyboard_electronic_001-021-127  [0, 0, 0, 0, 0, 0, 0, 0, 0, 0]            []   \n",
       "guitar_acoustic_010-066-100      [0, 0, 0, 0, 0, 0, 0, 0, 0, 0]            []   \n",
       "reed_acoustic_037-068-127        [0, 0, 0, 0, 0, 0, 0, 0, 1, 0]      [reverb]   \n",
       "flute_acoustic_002-077-100       [0, 0, 0, 0, 0, 0, 0, 0, 1, 0]      [reverb]   \n",
       "\n",
       "                                 sample_rate  velocity  \n",
       "bass_synthetic_068-049-025             16000        25  \n",
       "keyboard_electronic_001-021-127        16000       127  \n",
       "guitar_acoustic_010-066-100            16000       100  \n",
       "reed_acoustic_037-068-127              16000       127  \n",
       "flute_acoustic_002-077-100             16000       100  "
      ]
     },
     "execution_count": 44,
     "metadata": {},
     "output_type": "execute_result"
    }
   ],
   "source": [
    "df_test.head()"
   ]
  },
  {
   "cell_type": "code",
   "execution_count": 45,
   "metadata": {},
   "outputs": [
    {
     "data": {
      "text/plain": [
       "(4096, 13)"
      ]
     },
     "execution_count": 45,
     "metadata": {},
     "output_type": "execute_result"
    }
   ],
   "source": [
    "df_test.shape"
   ]
  },
  {
   "cell_type": "code",
   "execution_count": 46,
   "metadata": {},
   "outputs": [
    {
     "data": {
      "text/plain": [
       "instrument               False\n",
       "instrument_family        False\n",
       "instrument_family_str    False\n",
       "instrument_source        False\n",
       "instrument_source_str    False\n",
       "instrument_str           False\n",
       "note                     False\n",
       "note_str                 False\n",
       "pitch                    False\n",
       "qualities                False\n",
       "qualities_str            False\n",
       "sample_rate              False\n",
       "velocity                 False\n",
       "dtype: bool"
      ]
     },
     "execution_count": 46,
     "metadata": {},
     "output_type": "execute_result"
    }
   ],
   "source": [
    "#check for missing values\n",
    "df_test.isna().any(axis=0)"
   ]
  },
  {
   "cell_type": "code",
   "execution_count": 160,
   "metadata": {},
   "outputs": [],
   "source": [
    "assert df_train['sample_rate'].unique()==df_valid['sample_rate'].unique() == df_test['sample_rate'].unique()"
   ]
  },
  {
   "cell_type": "markdown",
   "metadata": {},
   "source": [
    "## Feature Distribution"
   ]
  },
  {
   "cell_type": "markdown",
   "metadata": {},
   "source": [
    "### Instrument Families"
   ]
  },
  {
   "cell_type": "code",
   "execution_count": 70,
   "metadata": {},
   "outputs": [
    {
     "data": {
      "image/png": "[encoded data removed]",
      "text/plain": [
       "<Figure size 360x216 with 1 Axes>"
      ]
     },
     "metadata": {
      "needs_background": "light"
     },
     "output_type": "display_data"
    }
   ],
   "source": [
    "df_train['instrument_family'].value_counts().reindex(np.arange(0,11, 1)).plot('bar', figsize=(5,3))\n",
    "plt.title(\"Instrument Family Distribution for Training\")\n",
    "plt.xlabel(\"Instrumet Family\")\n",
    "plt.ylabel(\"Count\")\n",
    "plt.tight_layout()\n",
    "plt.savefig(\"plots_JSON/dist_train.png\")\n",
    "plt.show()"
   ]
  },
  {
   "cell_type": "code",
   "execution_count": 71,
   "metadata": {},
   "outputs": [
    {
     "data": {
      "image/png": "[encoded data removed]",
      "text/plain": [
       "<Figure size 360x216 with 1 Axes>"
      ]
     },
     "metadata": {
      "needs_background": "light"
     },
     "output_type": "display_data"
    }
   ],
   "source": [
    "df_valid['instrument_family'].value_counts().reindex(np.arange(0,11, 1)).plot('bar', figsize=(5,3))\n",
    "plt.title(\"Instrument Family Distribution for Validation\")\n",
    "plt.xlabel(\"Instrumet Family\")\n",
    "plt.ylabel(\"Count\")\n",
    "plt.tight_layout()\n",
    "plt.savefig(\"plots_JSON/dist_valid.png\")\n",
    "plt.show()"
   ]
  },
  {
   "cell_type": "code",
   "execution_count": 72,
   "metadata": {},
   "outputs": [
    {
     "data": {
      "image/png": "[encoded data removed]",
      "text/plain": [
       "<Figure size 360x216 with 1 Axes>"
      ]
     },
     "metadata": {
      "needs_background": "light"
     },
     "output_type": "display_data"
    }
   ],
   "source": [
    "df_test['instrument_family'].value_counts().reindex(np.arange(0,11, 1)).plot('bar', figsize=(5,3))\n",
    "plt.title(\"Instrument Family Distribution for Test\")\n",
    "plt.xlabel(\"Instrumet Family\")\n",
    "plt.ylabel(\"Count\")\n",
    "plt.tight_layout()\n",
    "plt.savefig(\"plots_JSON/dist_test.png\")\n",
    "plt.show()"
   ]
  },
  {
   "cell_type": "markdown",
   "metadata": {},
   "source": [
    "### Source"
   ]
  },
  {
   "cell_type": "code",
   "execution_count": 79,
   "metadata": {},
   "outputs": [
    {
     "data": {
      "image/png": "[encoded data removed]",
      "text/plain": [
       "<Figure size 360x216 with 1 Axes>"
      ]
     },
     "metadata": {
      "needs_background": "light"
     },
     "output_type": "display_data"
    }
   ],
   "source": [
    "df_train['instrument_source'].value_counts().reindex(np.arange(0,3, 1)).plot('bar', figsize=(5,3))\n",
    "plt.title(\"Source Distribution for Training\")\n",
    "plt.xlabel(\"Instrumet Source\")\n",
    "plt.ylabel(\"Count\")\n",
    "plt.tight_layout()\n",
    "plt.savefig(\"plots_JSON/source_train.png\")\n",
    "plt.show()"
   ]
  },
  {
   "cell_type": "code",
   "execution_count": 80,
   "metadata": {},
   "outputs": [
    {
     "data": {
      "image/png": "[encoded data removed]",
      "text/plain": [
       "<Figure size 360x216 with 1 Axes>"
      ]
     },
     "metadata": {
      "needs_background": "light"
     },
     "output_type": "display_data"
    }
   ],
   "source": [
    "df_valid['instrument_source'].value_counts().reindex(np.arange(0,3, 1)).plot('bar', figsize=(5,3))\n",
    "plt.title(\"Source Distribution for Validation\")\n",
    "plt.xlabel(\"Instrumet Source\")\n",
    "plt.ylabel(\"Count\")\n",
    "plt.tight_layout()\n",
    "plt.savefig(\"plots_JSON/source_valid.png\")\n",
    "plt.show()"
   ]
  },
  {
   "cell_type": "code",
   "execution_count": 81,
   "metadata": {},
   "outputs": [
    {
     "data": {
      "image/png": "[encoded data removed]",
      "text/plain": [
       "<Figure size 360x216 with 1 Axes>"
      ]
     },
     "metadata": {
      "needs_background": "light"
     },
     "output_type": "display_data"
    }
   ],
   "source": [
    "df_test['instrument_source'].value_counts().reindex(np.arange(0,3, 1)).plot('bar', figsize=(5,3))\n",
    "plt.title(\"Source Distribution for Testing\")\n",
    "plt.xlabel(\"Instrumet Source\")\n",
    "plt.ylabel(\"Count\")\n",
    "plt.savefig(\"plots_JSON/source_test.png\")\n",
    "plt.show()"
   ]
  },
  {
   "cell_type": "markdown",
   "metadata": {},
   "source": [
    "### Statistics"
   ]
  },
  {
   "cell_type": "code",
   "execution_count": 76,
   "metadata": {},
   "outputs": [
    {
     "data": {
      "text/html": [
       "<div>\n",
       "<style scoped>\n",
       "    .dataframe tbody tr th:only-of-type {\n",
       "        vertical-align: middle;\n",
       "    }\n",
       "\n",
       "    .dataframe tbody tr th {\n",
       "        vertical-align: top;\n",
       "    }\n",
       "\n",
       "    .dataframe thead th {\n",
       "        text-align: right;\n",
       "    }\n",
       "</style>\n",
       "<table border=\"1\" class=\"dataframe\">\n",
       "  <thead>\n",
       "    <tr style=\"text-align: right;\">\n",
       "      <th></th>\n",
       "      <th>instrument</th>\n",
       "      <th>instrument_family</th>\n",
       "      <th>instrument_source</th>\n",
       "      <th>note</th>\n",
       "      <th>pitch</th>\n",
       "      <th>sample_rate</th>\n",
       "      <th>velocity</th>\n",
       "    </tr>\n",
       "  </thead>\n",
       "  <tbody>\n",
       "    <tr>\n",
       "      <th>count</th>\n",
       "      <td>289205.000000</td>\n",
       "      <td>289205.000000</td>\n",
       "      <td>289205.000000</td>\n",
       "      <td>289205.000000</td>\n",
       "      <td>289205.000000</td>\n",
       "      <td>289205.0</td>\n",
       "      <td>289205.000000</td>\n",
       "    </tr>\n",
       "    <tr>\n",
       "      <th>mean</th>\n",
       "      <td>490.943127</td>\n",
       "      <td>3.866462</td>\n",
       "      <td>0.932370</td>\n",
       "      <td>153095.048277</td>\n",
       "      <td>62.311658</td>\n",
       "      <td>16000.0</td>\n",
       "      <td>76.172504</td>\n",
       "    </tr>\n",
       "    <tr>\n",
       "      <th>std</th>\n",
       "      <td>280.813189</td>\n",
       "      <td>2.843398</td>\n",
       "      <td>0.796443</td>\n",
       "      <td>88232.549732</td>\n",
       "      <td>23.082522</td>\n",
       "      <td>0.0</td>\n",
       "      <td>36.181410</td>\n",
       "    </tr>\n",
       "    <tr>\n",
       "      <th>min</th>\n",
       "      <td>0.000000</td>\n",
       "      <td>0.000000</td>\n",
       "      <td>0.000000</td>\n",
       "      <td>0.000000</td>\n",
       "      <td>9.000000</td>\n",
       "      <td>16000.0</td>\n",
       "      <td>25.000000</td>\n",
       "    </tr>\n",
       "    <tr>\n",
       "      <th>25%</th>\n",
       "      <td>247.000000</td>\n",
       "      <td>1.000000</td>\n",
       "      <td>0.000000</td>\n",
       "      <td>76755.000000</td>\n",
       "      <td>44.000000</td>\n",
       "      <td>16000.0</td>\n",
       "      <td>50.000000</td>\n",
       "    </tr>\n",
       "    <tr>\n",
       "      <th>50%</th>\n",
       "      <td>499.000000</td>\n",
       "      <td>4.000000</td>\n",
       "      <td>1.000000</td>\n",
       "      <td>153254.000000</td>\n",
       "      <td>62.000000</td>\n",
       "      <td>16000.0</td>\n",
       "      <td>75.000000</td>\n",
       "    </tr>\n",
       "    <tr>\n",
       "      <th>75%</th>\n",
       "      <td>732.000000</td>\n",
       "      <td>6.000000</td>\n",
       "      <td>2.000000</td>\n",
       "      <td>229461.000000</td>\n",
       "      <td>80.000000</td>\n",
       "      <td>16000.0</td>\n",
       "      <td>100.000000</td>\n",
       "    </tr>\n",
       "    <tr>\n",
       "      <th>max</th>\n",
       "      <td>1005.000000</td>\n",
       "      <td>10.000000</td>\n",
       "      <td>2.000000</td>\n",
       "      <td>305978.000000</td>\n",
       "      <td>120.000000</td>\n",
       "      <td>16000.0</td>\n",
       "      <td>127.000000</td>\n",
       "    </tr>\n",
       "  </tbody>\n",
       "</table>\n",
       "</div>"
      ],
      "text/plain": [
       "          instrument  instrument_family  instrument_source           note  \\\n",
       "count  289205.000000      289205.000000      289205.000000  289205.000000   \n",
       "mean      490.943127           3.866462           0.932370  153095.048277   \n",
       "std       280.813189           2.843398           0.796443   88232.549732   \n",
       "min         0.000000           0.000000           0.000000       0.000000   \n",
       "25%       247.000000           1.000000           0.000000   76755.000000   \n",
       "50%       499.000000           4.000000           1.000000  153254.000000   \n",
       "75%       732.000000           6.000000           2.000000  229461.000000   \n",
       "max      1005.000000          10.000000           2.000000  305978.000000   \n",
       "\n",
       "               pitch  sample_rate       velocity  \n",
       "count  289205.000000     289205.0  289205.000000  \n",
       "mean       62.311658      16000.0      76.172504  \n",
       "std        23.082522          0.0      36.181410  \n",
       "min         9.000000      16000.0      25.000000  \n",
       "25%        44.000000      16000.0      50.000000  \n",
       "50%        62.000000      16000.0      75.000000  \n",
       "75%        80.000000      16000.0     100.000000  \n",
       "max       120.000000      16000.0     127.000000  "
      ]
     },
     "execution_count": 76,
     "metadata": {},
     "output_type": "execute_result"
    }
   ],
   "source": [
    "df_train.describe()"
   ]
  },
  {
   "cell_type": "code",
   "execution_count": 77,
   "metadata": {},
   "outputs": [
    {
     "data": {
      "text/html": [
       "<div>\n",
       "<style scoped>\n",
       "    .dataframe tbody tr th:only-of-type {\n",
       "        vertical-align: middle;\n",
       "    }\n",
       "\n",
       "    .dataframe tbody tr th {\n",
       "        vertical-align: top;\n",
       "    }\n",
       "\n",
       "    .dataframe thead th {\n",
       "        text-align: right;\n",
       "    }\n",
       "</style>\n",
       "<table border=\"1\" class=\"dataframe\">\n",
       "  <thead>\n",
       "    <tr style=\"text-align: right;\">\n",
       "      <th></th>\n",
       "      <th>instrument</th>\n",
       "      <th>instrument_family</th>\n",
       "      <th>instrument_source</th>\n",
       "      <th>note</th>\n",
       "      <th>pitch</th>\n",
       "      <th>sample_rate</th>\n",
       "      <th>velocity</th>\n",
       "    </tr>\n",
       "  </thead>\n",
       "  <tbody>\n",
       "    <tr>\n",
       "      <th>count</th>\n",
       "      <td>12678.000000</td>\n",
       "      <td>12678.000000</td>\n",
       "      <td>12678.000000</td>\n",
       "      <td>12678.000000</td>\n",
       "      <td>12678.000000</td>\n",
       "      <td>12678.0</td>\n",
       "      <td>12678.000000</td>\n",
       "    </tr>\n",
       "    <tr>\n",
       "      <th>mean</th>\n",
       "      <td>435.214308</td>\n",
       "      <td>3.642530</td>\n",
       "      <td>0.843193</td>\n",
       "      <td>151895.227638</td>\n",
       "      <td>61.529894</td>\n",
       "      <td>16000.0</td>\n",
       "      <td>75.334516</td>\n",
       "    </tr>\n",
       "    <tr>\n",
       "      <th>std</th>\n",
       "      <td>302.248923</td>\n",
       "      <td>2.717627</td>\n",
       "      <td>0.791823</td>\n",
       "      <td>89869.132754</td>\n",
       "      <td>23.543176</td>\n",
       "      <td>0.0</td>\n",
       "      <td>35.996326</td>\n",
       "    </tr>\n",
       "    <tr>\n",
       "      <th>min</th>\n",
       "      <td>8.000000</td>\n",
       "      <td>0.000000</td>\n",
       "      <td>0.000000</td>\n",
       "      <td>8.000000</td>\n",
       "      <td>9.000000</td>\n",
       "      <td>16000.0</td>\n",
       "      <td>25.000000</td>\n",
       "    </tr>\n",
       "    <tr>\n",
       "      <th>25%</th>\n",
       "      <td>123.000000</td>\n",
       "      <td>1.000000</td>\n",
       "      <td>0.000000</td>\n",
       "      <td>72977.250000</td>\n",
       "      <td>42.000000</td>\n",
       "      <td>16000.0</td>\n",
       "      <td>50.000000</td>\n",
       "    </tr>\n",
       "    <tr>\n",
       "      <th>50%</th>\n",
       "      <td>417.000000</td>\n",
       "      <td>4.000000</td>\n",
       "      <td>1.000000</td>\n",
       "      <td>149368.500000</td>\n",
       "      <td>60.000000</td>\n",
       "      <td>16000.0</td>\n",
       "      <td>75.000000</td>\n",
       "    </tr>\n",
       "    <tr>\n",
       "      <th>75%</th>\n",
       "      <td>656.000000</td>\n",
       "      <td>6.000000</td>\n",
       "      <td>1.000000</td>\n",
       "      <td>230152.250000</td>\n",
       "      <td>80.000000</td>\n",
       "      <td>16000.0</td>\n",
       "      <td>100.000000</td>\n",
       "    </tr>\n",
       "    <tr>\n",
       "      <th>max</th>\n",
       "      <td>958.000000</td>\n",
       "      <td>10.000000</td>\n",
       "      <td>2.000000</td>\n",
       "      <td>305977.000000</td>\n",
       "      <td>120.000000</td>\n",
       "      <td>16000.0</td>\n",
       "      <td>127.000000</td>\n",
       "    </tr>\n",
       "  </tbody>\n",
       "</table>\n",
       "</div>"
      ],
      "text/plain": [
       "         instrument  instrument_family  instrument_source           note  \\\n",
       "count  12678.000000       12678.000000       12678.000000   12678.000000   \n",
       "mean     435.214308           3.642530           0.843193  151895.227638   \n",
       "std      302.248923           2.717627           0.791823   89869.132754   \n",
       "min        8.000000           0.000000           0.000000       8.000000   \n",
       "25%      123.000000           1.000000           0.000000   72977.250000   \n",
       "50%      417.000000           4.000000           1.000000  149368.500000   \n",
       "75%      656.000000           6.000000           1.000000  230152.250000   \n",
       "max      958.000000          10.000000           2.000000  305977.000000   \n",
       "\n",
       "              pitch  sample_rate      velocity  \n",
       "count  12678.000000      12678.0  12678.000000  \n",
       "mean      61.529894      16000.0     75.334516  \n",
       "std       23.543176          0.0     35.996326  \n",
       "min        9.000000      16000.0     25.000000  \n",
       "25%       42.000000      16000.0     50.000000  \n",
       "50%       60.000000      16000.0     75.000000  \n",
       "75%       80.000000      16000.0    100.000000  \n",
       "max      120.000000      16000.0    127.000000  "
      ]
     },
     "execution_count": 77,
     "metadata": {},
     "output_type": "execute_result"
    }
   ],
   "source": [
    "df_valid.describe()"
   ]
  },
  {
   "cell_type": "code",
   "execution_count": 78,
   "metadata": {},
   "outputs": [
    {
     "data": {
      "text/html": [
       "<div>\n",
       "<style scoped>\n",
       "    .dataframe tbody tr th:only-of-type {\n",
       "        vertical-align: middle;\n",
       "    }\n",
       "\n",
       "    .dataframe tbody tr th {\n",
       "        vertical-align: top;\n",
       "    }\n",
       "\n",
       "    .dataframe thead th {\n",
       "        text-align: right;\n",
       "    }\n",
       "</style>\n",
       "<table border=\"1\" class=\"dataframe\">\n",
       "  <thead>\n",
       "    <tr style=\"text-align: right;\">\n",
       "      <th></th>\n",
       "      <th>instrument</th>\n",
       "      <th>instrument_family</th>\n",
       "      <th>instrument_source</th>\n",
       "      <th>note</th>\n",
       "      <th>pitch</th>\n",
       "      <th>sample_rate</th>\n",
       "      <th>velocity</th>\n",
       "    </tr>\n",
       "  </thead>\n",
       "  <tbody>\n",
       "    <tr>\n",
       "      <th>count</th>\n",
       "      <td>4096.000000</td>\n",
       "      <td>4096.000000</td>\n",
       "      <td>4096.000000</td>\n",
       "      <td>4096.000000</td>\n",
       "      <td>4096.000000</td>\n",
       "      <td>4096.0</td>\n",
       "      <td>4096.000000</td>\n",
       "    </tr>\n",
       "    <tr>\n",
       "      <th>mean</th>\n",
       "      <td>423.497070</td>\n",
       "      <td>3.704590</td>\n",
       "      <td>0.840332</td>\n",
       "      <td>149040.895752</td>\n",
       "      <td>61.480713</td>\n",
       "      <td>16000.0</td>\n",
       "      <td>75.288574</td>\n",
       "    </tr>\n",
       "    <tr>\n",
       "      <th>std</th>\n",
       "      <td>300.198066</td>\n",
       "      <td>2.761171</td>\n",
       "      <td>0.799813</td>\n",
       "      <td>90014.146997</td>\n",
       "      <td>23.386504</td>\n",
       "      <td>0.0</td>\n",
       "      <td>35.775118</td>\n",
       "    </tr>\n",
       "    <tr>\n",
       "      <th>min</th>\n",
       "      <td>8.000000</td>\n",
       "      <td>0.000000</td>\n",
       "      <td>0.000000</td>\n",
       "      <td>87.000000</td>\n",
       "      <td>9.000000</td>\n",
       "      <td>16000.0</td>\n",
       "      <td>25.000000</td>\n",
       "    </tr>\n",
       "    <tr>\n",
       "      <th>25%</th>\n",
       "      <td>123.000000</td>\n",
       "      <td>1.000000</td>\n",
       "      <td>0.000000</td>\n",
       "      <td>70077.500000</td>\n",
       "      <td>42.000000</td>\n",
       "      <td>16000.0</td>\n",
       "      <td>50.000000</td>\n",
       "    </tr>\n",
       "    <tr>\n",
       "      <th>50%</th>\n",
       "      <td>417.000000</td>\n",
       "      <td>4.000000</td>\n",
       "      <td>1.000000</td>\n",
       "      <td>143984.500000</td>\n",
       "      <td>61.000000</td>\n",
       "      <td>16000.0</td>\n",
       "      <td>75.000000</td>\n",
       "    </tr>\n",
       "    <tr>\n",
       "      <th>75%</th>\n",
       "      <td>656.000000</td>\n",
       "      <td>6.000000</td>\n",
       "      <td>2.000000</td>\n",
       "      <td>228438.000000</td>\n",
       "      <td>80.000000</td>\n",
       "      <td>16000.0</td>\n",
       "      <td>100.000000</td>\n",
       "    </tr>\n",
       "    <tr>\n",
       "      <th>max</th>\n",
       "      <td>958.000000</td>\n",
       "      <td>10.000000</td>\n",
       "      <td>2.000000</td>\n",
       "      <td>305832.000000</td>\n",
       "      <td>119.000000</td>\n",
       "      <td>16000.0</td>\n",
       "      <td>127.000000</td>\n",
       "    </tr>\n",
       "  </tbody>\n",
       "</table>\n",
       "</div>"
      ],
      "text/plain": [
       "        instrument  instrument_family  instrument_source           note  \\\n",
       "count  4096.000000        4096.000000        4096.000000    4096.000000   \n",
       "mean    423.497070           3.704590           0.840332  149040.895752   \n",
       "std     300.198066           2.761171           0.799813   90014.146997   \n",
       "min       8.000000           0.000000           0.000000      87.000000   \n",
       "25%     123.000000           1.000000           0.000000   70077.500000   \n",
       "50%     417.000000           4.000000           1.000000  143984.500000   \n",
       "75%     656.000000           6.000000           2.000000  228438.000000   \n",
       "max     958.000000          10.000000           2.000000  305832.000000   \n",
       "\n",
       "             pitch  sample_rate     velocity  \n",
       "count  4096.000000       4096.0  4096.000000  \n",
       "mean     61.480713      16000.0    75.288574  \n",
       "std      23.386504          0.0    35.775118  \n",
       "min       9.000000      16000.0    25.000000  \n",
       "25%      42.000000      16000.0    50.000000  \n",
       "50%      61.000000      16000.0    75.000000  \n",
       "75%      80.000000      16000.0   100.000000  \n",
       "max     119.000000      16000.0   127.000000  "
      ]
     },
     "execution_count": 78,
     "metadata": {},
     "output_type": "execute_result"
    }
   ],
   "source": [
    "df_test.describe()"
   ]
  },
  {
   "cell_type": "markdown",
   "metadata": {},
   "source": [
    "### Velocity"
   ]
  },
  {
   "cell_type": "code",
   "execution_count": 95,
   "metadata": {},
   "outputs": [
    {
     "data": {
      "image/png": "[encoded data removed]",
      "text/plain": [
       "<Figure size 360x288 with 1 Axes>"
      ]
     },
     "metadata": {
      "needs_background": "light"
     },
     "output_type": "display_data"
    }
   ],
   "source": [
    "#display source disribution\n",
    "df_train['velocity'].value_counts(ascending=True).plot('bar', figsize=(5,4), sort_columns=True)\n",
    "plt.title(\"Instrument Velocity: Training\")\n",
    "plt.xlabel(\"MIDI velocity\")\n",
    "plt.tight_layout()\n",
    "plt.savefig('plots_JSON/velo_train')\n",
    "plt.show()"
   ]
  },
  {
   "cell_type": "code",
   "execution_count": 99,
   "metadata": {},
   "outputs": [
    {
     "data": {
      "image/png": "[encoded data removed]",
      "text/plain": [
       "<Figure size 360x288 with 1 Axes>"
      ]
     },
     "metadata": {
      "needs_background": "light"
     },
     "output_type": "display_data"
    }
   ],
   "source": [
    "#display source disribution\n",
    "df_valid['velocity'].value_counts(ascending=True).plot('bar', figsize=(5,4), sort_columns=True)\n",
    "plt.title(\"Instrument Velocity: Validation\")\n",
    "plt.xlabel(\"MIDI velocity\")\n",
    "plt.tight_layout()\n",
    "plt.savefig('plots_JSON/velo_valid')\n",
    "plt.show()"
   ]
  },
  {
   "cell_type": "code",
   "execution_count": 94,
   "metadata": {},
   "outputs": [
    {
     "data": {
      "image/png": "[encoded data removed]",
      "text/plain": [
       "<Figure size 360x288 with 1 Axes>"
      ]
     },
     "metadata": {
      "needs_background": "light"
     },
     "output_type": "display_data"
    }
   ],
   "source": [
    "#display source disribution\n",
    "df_test['velocity'].value_counts(ascending=True).plot('bar', figsize=(5,4))\n",
    "plt.title(\"Instrument Velocity: Testing\")\n",
    "plt.xlabel(\"MIDI velocity\")\n",
    "plt.tight_layout()\n",
    "plt.savefig('plots_JSON/velo_test')\n",
    "plt.show()"
   ]
  },
  {
   "cell_type": "markdown",
   "metadata": {},
   "source": [
    "### Pitch"
   ]
  },
  {
   "cell_type": "code",
   "execution_count": 128,
   "metadata": {},
   "outputs": [
    {
     "data": {
      "image/png": "[encoded data removed]",
      "text/plain": [
       "<Figure size 432x216 with 1 Axes>"
      ]
     },
     "metadata": {
      "needs_background": "light"
     },
     "output_type": "display_data"
    }
   ],
   "source": [
    "df_train.hist(column='pitch', grid=False, bins=127,figsize=(6,3))\n",
    "plt.title(\"Pitch Distribution: Training\")\n",
    "plt.ylabel(\"Count\")\n",
    "plt.xlabel(\"MIDI Pitch\")\n",
    "plt.tight_layout()\n",
    "plt.savefig(\"plots_JSON/pitch_train\")"
   ]
  },
  {
   "cell_type": "code",
   "execution_count": 129,
   "metadata": {},
   "outputs": [
    {
     "data": {
      "image/png": "[encoded data removed]",
      "text/plain": [
       "<Figure size 432x216 with 1 Axes>"
      ]
     },
     "metadata": {
      "needs_background": "light"
     },
     "output_type": "display_data"
    }
   ],
   "source": [
    "df_valid.hist(column='pitch', grid=False, bins=127,figsize=(6,3))\n",
    "plt.title(\"Pitch Distribution: Validation\")\n",
    "plt.ylabel(\"Count\")\n",
    "plt.xlabel(\"MIDI Pitch\")\n",
    "plt.tight_layout()\n",
    "plt.savefig(\"plots_JSON/pitch_valid\")"
   ]
  },
  {
   "cell_type": "code",
   "execution_count": 130,
   "metadata": {},
   "outputs": [
    {
     "data": {
      "image/png": "[encoded data removed]",
      "text/plain": [
       "<Figure size 432x216 with 1 Axes>"
      ]
     },
     "metadata": {
      "needs_background": "light"
     },
     "output_type": "display_data"
    }
   ],
   "source": [
    "df_test.hist(column='pitch', grid=False, bins=127,figsize=(6,3))\n",
    "plt.title(\"Pitch Distribution: Testing\")\n",
    "plt.ylabel(\"Count\")\n",
    "plt.xlabel(\"MIDI Pitch\")\n",
    "plt.tight_layout()\n",
    "plt.savefig(\"plots_JSON/pitch_test\")"
   ]
  },
  {
   "cell_type": "code",
   "execution_count": 158,
   "metadata": {},
   "outputs": [],
   "source": [
    "#confirm that  pitches in test and valid are also present in train\n",
    "assert (set(df_valid['pitch'])).issubset((set(df_train['pitch'])))\n",
    "assert (set(df_test['pitch'])).issubset((set(df_train['pitch'])))"
   ]
  },
  {
   "cell_type": "code",
   "execution_count": null,
   "metadata": {},
   "outputs": [],
   "source": []
  }
 ],
 "metadata": {
  "kernelspec": {
   "display_name": "Python 3",
   "language": "python",
   "name": "python3"
  },
  "language_info": {
   "codemirror_mode": {
    "name": "ipython",
    "version": 3
   },
   "file_extension": ".py",
   "mimetype": "text/x-python",
   "name": "python",
   "nbconvert_exporter": "python",
   "pygments_lexer": "ipython3",
   "version": "3.7.0"
  }
 },
 "nbformat": 4,
 "nbformat_minor": 2
}
