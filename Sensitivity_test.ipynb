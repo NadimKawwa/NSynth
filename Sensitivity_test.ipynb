{
 "cells": [
  {
   "cell_type": "code",
   "execution_count": 32,
   "metadata": {},
   "outputs": [],
   "source": [
    "import pickle\n",
    "import numpy as np\n",
    "import pandas as pd\n",
    "from sklearn.metrics import confusion_matrix\n",
    "import matplotlib.pyplot as plt\n",
    "from sklearn.model_selection import RandomizedSearchCV\n",
    "from sklearn.ensemble import RandomForestClassifier\n",
    "import librosa\n",
    "from sklearn.utils.multiclass import unique_labels\n",
    "\n"
   ]
  },
  {
   "cell_type": "code",
   "execution_count": 2,
   "metadata": {},
   "outputs": [],
   "source": [
    "#directory to training data and json file\n",
    "train_dir='/Users/nadimkawwa/Desktop/Udacity/MLEND/Capstone/nsynth-train/audio/'\n",
    "#directory to training data and json file\n",
    "valid_dir='/Users/nadimkawwa/Desktop/Udacity/MLEND/Capstone/nsynth-valid/audio/'\n",
    "#directory to training data and json file\n",
    "test_dir='/Users/nadimkawwa/Desktop/Udacity/MLEND/Capstone/nsynth-test/audio/'"
   ]
  },
  {
   "cell_type": "markdown",
   "metadata": {},
   "source": [
    "## Feature Extract"
   ]
  },
  {
   "cell_type": "code",
   "execution_count": 3,
   "metadata": {},
   "outputs": [],
   "source": [
    "def feature_extract(file):\n",
    "    \"\"\"\n",
    "    Define function that takes in a file an returns features in an array\n",
    "    \"\"\"\n",
    "    \n",
    "    #get wave representation\n",
    "    y, sr = librosa.load(file)\n",
    "        \n",
    "    #determine if instruemnt is harmonic or percussive by comparing means\n",
    "    y_harmonic, y_percussive = librosa.effects.hpss(y)\n",
    "    if np.mean(y_harmonic)>np.mean(y_percussive):\n",
    "        harmonic=1\n",
    "    else:\n",
    "        harmonic=0\n",
    "        \n",
    "    #Mel-frequency cepstral coefficients (MFCCs)\n",
    "    mfcc = librosa.feature.mfcc(y=y, sr=sr, n_mfcc=13)\n",
    "    #temporal averaging\n",
    "    mfcc=np.mean(mfcc,axis=1)\n",
    "    \n",
    "    #get the mel-scaled spectrogram\n",
    "    spectrogram = librosa.feature.melspectrogram(y=y, sr=sr, n_mels=128,fmax=8000)  \n",
    "    #temporally average spectrogram\n",
    "    spectrogram = np.mean(spectrogram, axis = 1)\n",
    "    \n",
    "    #compute chroma energy\n",
    "    chroma = librosa.feature.chroma_cens(y=y, sr=sr)\n",
    "    #temporally average chroma\n",
    "    chroma = np.mean(chroma, axis = 1)\n",
    "    \n",
    "    #compute spectral contrast\n",
    "    contrast = librosa.feature.spectral_contrast(y=y, sr=sr)\n",
    "    contrast = np.mean(contrast, axis= 1)\n",
    "    \n",
    "    return [harmonic, mfcc, spectrogram, chroma, contrast]"
   ]
  },
  {
   "cell_type": "code",
   "execution_count": 17,
   "metadata": {},
   "outputs": [],
   "source": [
    "def instrument_code(filename):\n",
    "    \"\"\"\n",
    "    Function that takes in a filename and returns instrument based on naming convention\n",
    "    \"\"\"\n",
    "    class_names=['bass', 'brass', 'flute', 'guitar', \n",
    "             'keyboard', 'mallet', 'organ', 'reed', \n",
    "             'string', 'synth_lead', 'vocal']\n",
    "    \n",
    "    for name in class_names:\n",
    "        if name in filename:\n",
    "            return class_names.index(name)\n",
    "    else:\n",
    "        return None"
   ]
  },
  {
   "cell_type": "code",
   "execution_count": 5,
   "metadata": {},
   "outputs": [],
   "source": [
    "#get the training\n",
    "with open('DataWrangling/filenames_train.pickle', 'rb') as f:\n",
    "    filenames_train = pickle.load(f)"
   ]
  },
  {
   "cell_type": "code",
   "execution_count": 8,
   "metadata": {},
   "outputs": [],
   "source": [
    "#load the json files\n",
    "df_train= pd.read_json('/Users/nadimkawwa/Desktop/Udacity/MLEND/Capstone/nsynth-train/examples.json', orient='index')"
   ]
  },
  {
   "cell_type": "code",
   "execution_count": 11,
   "metadata": {},
   "outputs": [
    {
     "data": {
      "text/plain": [
       "(239205, 13)"
      ]
     },
     "execution_count": 11,
     "metadata": {},
     "output_type": "execute_result"
    }
   ],
   "source": [
    "#exclude all files in training dataset\n",
    "df_train_mod = df_train[~df_train.index.isin(filenames_train)]\n",
    "df_train_mod.shape"
   ]
  },
  {
   "cell_type": "code",
   "execution_count": 12,
   "metadata": {},
   "outputs": [
    {
     "data": {
      "text/plain": [
       "(10000, 13)"
      ]
     },
     "execution_count": 12,
     "metadata": {},
     "output_type": "execute_result"
    }
   ],
   "source": [
    "#Sample n files\n",
    "df_train_sample=df_train_mod.groupby('instrument_family', as_index=False, #group by instrument family\n",
    "                               group_keys=False).apply(lambda df: df.sample(1000)) #number of samples\n",
    "#drop the synth_lead from the training dataset\n",
    "df_train_sample= df_train_sample[df_train_sample['instrument_family']!=9]\n",
    "\n",
    "df_train_sample.shape"
   ]
  },
  {
   "cell_type": "code",
   "execution_count": 13,
   "metadata": {},
   "outputs": [],
   "source": [
    "#save the train file index as list\n",
    "filenames = df_train_sample.index.tolist()"
   ]
  },
  {
   "cell_type": "code",
   "execution_count": 16,
   "metadata": {},
   "outputs": [
    {
     "name": "stderr",
     "output_type": "stream",
     "text": [
      "/Users/nadimkawwa/anaconda3/lib/python3.7/site-packages/librosa/core/pitch.py:145: UserWarning: Trying to estimate tuning from empty frequency set.\n",
      "  warnings.warn('Trying to estimate tuning from empty frequency set.')\n"
     ]
    }
   ],
   "source": [
    "#create dictionary to store all test features\n",
    "dict_test = {}\n",
    "#loop over every file in the list\n",
    "for file in filenames:\n",
    "    #extract the features\n",
    "    features = feature_extract(train_dir+ file + '.wav') #specify directory and .wav\n",
    "    #add dictionary entry\n",
    "    dict_test[file] = features"
   ]
  },
  {
   "cell_type": "code",
   "execution_count": 18,
   "metadata": {},
   "outputs": [],
   "source": [
    "#convert dict to dataframe\n",
    "features_test = pd.DataFrame.from_dict(dict_test, orient='index',\n",
    "                                       columns=['harmonic', 'mfcc', 'spectro', 'chroma', 'contrast'])"
   ]
  },
  {
   "cell_type": "code",
   "execution_count": 21,
   "metadata": {},
   "outputs": [],
   "source": [
    "targets_test = []\n",
    "for name in features_test.index.tolist():\n",
    "    targets_test.append(instrument_code(name))\n",
    "\n",
    "features_test['targets'] = targets_test"
   ]
  },
  {
   "cell_type": "code",
   "execution_count": 22,
   "metadata": {},
   "outputs": [
    {
     "data": {
      "text/html": [
       "<div>\n",
       "<style scoped>\n",
       "    .dataframe tbody tr th:only-of-type {\n",
       "        vertical-align: middle;\n",
       "    }\n",
       "\n",
       "    .dataframe tbody tr th {\n",
       "        vertical-align: top;\n",
       "    }\n",
       "\n",
       "    .dataframe thead th {\n",
       "        text-align: right;\n",
       "    }\n",
       "</style>\n",
       "<table border=\"1\" class=\"dataframe\">\n",
       "  <thead>\n",
       "    <tr style=\"text-align: right;\">\n",
       "      <th></th>\n",
       "      <th>harmonic</th>\n",
       "      <th>targets</th>\n",
       "      <th>mfcc_0</th>\n",
       "      <th>mfcc_1</th>\n",
       "      <th>mfcc_2</th>\n",
       "      <th>mfcc_3</th>\n",
       "      <th>mfcc_4</th>\n",
       "      <th>mfcc_5</th>\n",
       "      <th>mfcc_6</th>\n",
       "      <th>mfcc_7</th>\n",
       "      <th>...</th>\n",
       "      <th>contrast_chroma_2</th>\n",
       "      <th>contrast_chroma_3</th>\n",
       "      <th>contrast_chroma_4</th>\n",
       "      <th>contrast_chroma_5</th>\n",
       "      <th>contrast_chroma_6</th>\n",
       "      <th>contrast_chroma_7</th>\n",
       "      <th>contrast_chroma_8</th>\n",
       "      <th>contrast_chroma_9</th>\n",
       "      <th>contrast_chroma_10</th>\n",
       "      <th>contrast_chroma_11</th>\n",
       "    </tr>\n",
       "  </thead>\n",
       "  <tbody>\n",
       "    <tr>\n",
       "      <th>bass_electronic_004-046-025</th>\n",
       "      <td>0</td>\n",
       "      <td>0</td>\n",
       "      <td>-499.344339</td>\n",
       "      <td>50.845920</td>\n",
       "      <td>37.415199</td>\n",
       "      <td>30.128452</td>\n",
       "      <td>22.023434</td>\n",
       "      <td>15.067691</td>\n",
       "      <td>9.115178</td>\n",
       "      <td>3.255047</td>\n",
       "      <td>...</td>\n",
       "      <td>0.029262</td>\n",
       "      <td>0.038886</td>\n",
       "      <td>0.041576</td>\n",
       "      <td>0.040762</td>\n",
       "      <td>0.046410</td>\n",
       "      <td>0.050698</td>\n",
       "      <td>0.092661</td>\n",
       "      <td>0.528389</td>\n",
       "      <td>0.636725</td>\n",
       "      <td>0.439625</td>\n",
       "    </tr>\n",
       "    <tr>\n",
       "      <th>bass_synthetic_045-097-127</th>\n",
       "      <td>0</td>\n",
       "      <td>0</td>\n",
       "      <td>-208.520632</td>\n",
       "      <td>62.484986</td>\n",
       "      <td>-59.531511</td>\n",
       "      <td>55.899905</td>\n",
       "      <td>-15.802928</td>\n",
       "      <td>30.184138</td>\n",
       "      <td>-32.448381</td>\n",
       "      <td>13.595960</td>\n",
       "      <td>...</td>\n",
       "      <td>0.452264</td>\n",
       "      <td>0.211559</td>\n",
       "      <td>0.197093</td>\n",
       "      <td>0.113437</td>\n",
       "      <td>0.108910</td>\n",
       "      <td>0.134160</td>\n",
       "      <td>0.133031</td>\n",
       "      <td>0.146251</td>\n",
       "      <td>0.189056</td>\n",
       "      <td>0.189652</td>\n",
       "    </tr>\n",
       "    <tr>\n",
       "      <th>bass_synthetic_051-071-050</th>\n",
       "      <td>1</td>\n",
       "      <td>0</td>\n",
       "      <td>-397.024217</td>\n",
       "      <td>12.835646</td>\n",
       "      <td>2.807544</td>\n",
       "      <td>8.216464</td>\n",
       "      <td>-27.402290</td>\n",
       "      <td>-7.273604</td>\n",
       "      <td>-29.580155</td>\n",
       "      <td>-19.107302</td>\n",
       "      <td>...</td>\n",
       "      <td>0.025324</td>\n",
       "      <td>0.021995</td>\n",
       "      <td>0.013131</td>\n",
       "      <td>0.024104</td>\n",
       "      <td>0.046232</td>\n",
       "      <td>0.039298</td>\n",
       "      <td>0.025580</td>\n",
       "      <td>0.022734</td>\n",
       "      <td>0.498987</td>\n",
       "      <td>0.670291</td>\n",
       "    </tr>\n",
       "    <tr>\n",
       "      <th>bass_synthetic_121-073-100</th>\n",
       "      <td>1</td>\n",
       "      <td>0</td>\n",
       "      <td>-480.360712</td>\n",
       "      <td>20.176966</td>\n",
       "      <td>2.423125</td>\n",
       "      <td>1.136143</td>\n",
       "      <td>-21.009141</td>\n",
       "      <td>-13.433699</td>\n",
       "      <td>-15.630798</td>\n",
       "      <td>-6.444302</td>\n",
       "      <td>...</td>\n",
       "      <td>0.457709</td>\n",
       "      <td>0.023681</td>\n",
       "      <td>0.029090</td>\n",
       "      <td>0.040140</td>\n",
       "      <td>0.029108</td>\n",
       "      <td>0.040849</td>\n",
       "      <td>0.047041</td>\n",
       "      <td>0.046758</td>\n",
       "      <td>0.055298</td>\n",
       "      <td>0.123167</td>\n",
       "    </tr>\n",
       "    <tr>\n",
       "      <th>bass_synthetic_105-046-050</th>\n",
       "      <td>0</td>\n",
       "      <td>0</td>\n",
       "      <td>-388.832358</td>\n",
       "      <td>139.085235</td>\n",
       "      <td>46.588885</td>\n",
       "      <td>19.759009</td>\n",
       "      <td>25.584054</td>\n",
       "      <td>17.972531</td>\n",
       "      <td>8.160255</td>\n",
       "      <td>5.761977</td>\n",
       "      <td>...</td>\n",
       "      <td>0.089414</td>\n",
       "      <td>0.046594</td>\n",
       "      <td>0.042685</td>\n",
       "      <td>0.002515</td>\n",
       "      <td>0.021122</td>\n",
       "      <td>0.074585</td>\n",
       "      <td>0.031109</td>\n",
       "      <td>0.459536</td>\n",
       "      <td>0.646207</td>\n",
       "      <td>0.489804</td>\n",
       "    </tr>\n",
       "  </tbody>\n",
       "</table>\n",
       "<p>5 rows × 167 columns</p>\n",
       "</div>"
      ],
      "text/plain": [
       "                             harmonic  targets      mfcc_0      mfcc_1  \\\n",
       "bass_electronic_004-046-025         0        0 -499.344339   50.845920   \n",
       "bass_synthetic_045-097-127          0        0 -208.520632   62.484986   \n",
       "bass_synthetic_051-071-050          1        0 -397.024217   12.835646   \n",
       "bass_synthetic_121-073-100          1        0 -480.360712   20.176966   \n",
       "bass_synthetic_105-046-050          0        0 -388.832358  139.085235   \n",
       "\n",
       "                                mfcc_2     mfcc_3     mfcc_4     mfcc_5  \\\n",
       "bass_electronic_004-046-025  37.415199  30.128452  22.023434  15.067691   \n",
       "bass_synthetic_045-097-127  -59.531511  55.899905 -15.802928  30.184138   \n",
       "bass_synthetic_051-071-050    2.807544   8.216464 -27.402290  -7.273604   \n",
       "bass_synthetic_121-073-100    2.423125   1.136143 -21.009141 -13.433699   \n",
       "bass_synthetic_105-046-050   46.588885  19.759009  25.584054  17.972531   \n",
       "\n",
       "                                mfcc_6     mfcc_7         ...          \\\n",
       "bass_electronic_004-046-025   9.115178   3.255047         ...           \n",
       "bass_synthetic_045-097-127  -32.448381  13.595960         ...           \n",
       "bass_synthetic_051-071-050  -29.580155 -19.107302         ...           \n",
       "bass_synthetic_121-073-100  -15.630798  -6.444302         ...           \n",
       "bass_synthetic_105-046-050    8.160255   5.761977         ...           \n",
       "\n",
       "                             contrast_chroma_2  contrast_chroma_3  \\\n",
       "bass_electronic_004-046-025           0.029262           0.038886   \n",
       "bass_synthetic_045-097-127            0.452264           0.211559   \n",
       "bass_synthetic_051-071-050            0.025324           0.021995   \n",
       "bass_synthetic_121-073-100            0.457709           0.023681   \n",
       "bass_synthetic_105-046-050            0.089414           0.046594   \n",
       "\n",
       "                             contrast_chroma_4  contrast_chroma_5  \\\n",
       "bass_electronic_004-046-025           0.041576           0.040762   \n",
       "bass_synthetic_045-097-127            0.197093           0.113437   \n",
       "bass_synthetic_051-071-050            0.013131           0.024104   \n",
       "bass_synthetic_121-073-100            0.029090           0.040140   \n",
       "bass_synthetic_105-046-050            0.042685           0.002515   \n",
       "\n",
       "                             contrast_chroma_6  contrast_chroma_7  \\\n",
       "bass_electronic_004-046-025           0.046410           0.050698   \n",
       "bass_synthetic_045-097-127            0.108910           0.134160   \n",
       "bass_synthetic_051-071-050            0.046232           0.039298   \n",
       "bass_synthetic_121-073-100            0.029108           0.040849   \n",
       "bass_synthetic_105-046-050            0.021122           0.074585   \n",
       "\n",
       "                             contrast_chroma_8  contrast_chroma_9  \\\n",
       "bass_electronic_004-046-025           0.092661           0.528389   \n",
       "bass_synthetic_045-097-127            0.133031           0.146251   \n",
       "bass_synthetic_051-071-050            0.025580           0.022734   \n",
       "bass_synthetic_121-073-100            0.047041           0.046758   \n",
       "bass_synthetic_105-046-050            0.031109           0.459536   \n",
       "\n",
       "                             contrast_chroma_10  contrast_chroma_11  \n",
       "bass_electronic_004-046-025            0.636725            0.439625  \n",
       "bass_synthetic_045-097-127             0.189056            0.189652  \n",
       "bass_synthetic_051-071-050             0.498987            0.670291  \n",
       "bass_synthetic_121-073-100             0.055298            0.123167  \n",
       "bass_synthetic_105-046-050             0.646207            0.489804  \n",
       "\n",
       "[5 rows x 167 columns]"
      ]
     },
     "execution_count": 22,
     "metadata": {},
     "output_type": "execute_result"
    }
   ],
   "source": [
    "#extract mfccs\n",
    "mfcc_test = pd.DataFrame(features_test.mfcc.values.tolist(),index=features_test.index)\n",
    "mfcc_test = mfcc_test.add_prefix('mfcc_')\n",
    "\n",
    "#extract spectro\n",
    "spectro_test = pd.DataFrame(features_test.spectro.values.tolist(),index=features_test.index)\n",
    "spectro_test = spectro_test.add_prefix('spectro_')\n",
    "\n",
    "\n",
    "#extract chroma\n",
    "chroma_test = pd.DataFrame(features_test.chroma.values.tolist(),index=features_test.index)\n",
    "chroma_test = chroma_test.add_prefix('chroma_')\n",
    "\n",
    "\n",
    "#extract contrast\n",
    "contrast_test = pd.DataFrame(features_test.contrast.values.tolist(),index=features_test.index)\n",
    "contrast_test = chroma_test.add_prefix('contrast_')\n",
    "\n",
    "#drop the old columns\n",
    "features_test = features_test.drop(labels=['mfcc', 'spectro', 'chroma', 'contrast'], axis=1)\n",
    "\n",
    "#concatenate\n",
    "df_features_test=pd.concat([features_test, mfcc_test, spectro_test, chroma_test, contrast_test],\n",
    "                           axis=1, join='inner')\n",
    "df_features_test.head()"
   ]
  },
  {
   "cell_type": "code",
   "execution_count": 23,
   "metadata": {},
   "outputs": [],
   "source": [
    "#save the dataframe to a pickle file\n",
    "with open('DataWrangling/df_features_test_sensitive.pickle', 'wb') as f:\n",
    "    pickle.dump(df_features_test, f)"
   ]
  },
  {
   "cell_type": "markdown",
   "metadata": {},
   "source": [
    "# Test The New Data"
   ]
  },
  {
   "cell_type": "code",
   "execution_count": 26,
   "metadata": {},
   "outputs": [],
   "source": [
    "#get the classifier\n",
    "with open('SavedModels/random_search_RF.pickle', 'rb') as f:\n",
    "    clf_rf = pickle.load(f)"
   ]
  },
  {
   "cell_type": "code",
   "execution_count": 27,
   "metadata": {},
   "outputs": [],
   "source": [
    "def plot_confusion_matrix(y_true, y_pred, classes,\n",
    "                          normalize=False,\n",
    "                          title=None,\n",
    "                          cmap=plt.cm.Blues):\n",
    "    \"\"\"\n",
    "    This function prints and plots the confusion matrix.\n",
    "    Normalization can be applied by setting `normalize=True`.\n",
    "    \"\"\"\n",
    "    if not title:\n",
    "        if normalize:\n",
    "            title = 'Normalized confusion matrix'\n",
    "        else:\n",
    "            title = 'Confusion matrix, without normalization'\n",
    "\n",
    "    # Compute confusion matrix\n",
    "    cm = confusion_matrix(y_true, y_pred)\n",
    "    # Only use the labels that appear in the data\n",
    "    classes = classes[unique_labels(y_true, y_pred)]\n",
    "    if normalize:\n",
    "        cm = cm.astype('float') / cm.sum(axis=1)[:, np.newaxis]\n",
    "        print(\"Normalized confusion matrix\")\n",
    "    else:\n",
    "        print('Confusion matrix, without normalization')\n",
    "\n",
    "    print(cm)\n",
    "\n",
    "    fig, ax = plt.subplots(figsize=(10,10))\n",
    "    im = ax.imshow(cm, interpolation='nearest', cmap=cmap)\n",
    "    ax.figure.colorbar(im, ax=ax)\n",
    "    # We want to show all ticks...\n",
    "    ax.set(xticks=np.arange(cm.shape[1]),\n",
    "           yticks=np.arange(cm.shape[0]),\n",
    "           # ... and label them with the respective list entries\n",
    "           xticklabels=classes, yticklabels=classes,\n",
    "           title=title,\n",
    "           ylabel='True label',\n",
    "           xlabel='Predicted label')\n",
    "\n",
    "    # Rotate the tick labels and set their alignment.\n",
    "    plt.setp(ax.get_xticklabels(), rotation=45, ha=\"right\",\n",
    "             rotation_mode=\"anchor\")\n",
    "    \n",
    "    # Loop over data dimensions and create text annotations.\n",
    "    fmt = '.2f' if normalize else 'd'\n",
    "    thresh = cm.max() / 2.\n",
    "    for i in range(cm.shape[0]):\n",
    "        for j in range(cm.shape[1]):\n",
    "            ax.text(j, i, format(cm[i, j], fmt),\n",
    "                    ha=\"center\", va=\"center\",\n",
    "                    color=\"white\" if cm[i, j] > thresh else \"black\")\n",
    "    #fig.tight_layout()\n",
    "    return ax"
   ]
  },
  {
   "cell_type": "code",
   "execution_count": 28,
   "metadata": {},
   "outputs": [],
   "source": [
    "class_names=np.array(['bass', 'brass', 'flute', 'guitar', \n",
    "             'keyboard', 'mallet', 'organ', 'reed', \n",
    "             'string', 'synth_lead', 'vocal'])"
   ]
  },
  {
   "cell_type": "code",
   "execution_count": 29,
   "metadata": {},
   "outputs": [],
   "source": [
    "X_test = df_features_test.drop(labels=['targets'], axis=1)\n",
    "y_test = df_features_test['targets']"
   ]
  },
  {
   "cell_type": "code",
   "execution_count": 30,
   "metadata": {},
   "outputs": [
    {
     "name": "stdout",
     "output_type": "stream",
     "text": [
      "The accuracy of Random Forest is 85.67%\n"
     ]
    }
   ],
   "source": [
    "y_pred_RF = clf_rf.predict(X_test)\n",
    "accuracy_RF = np.mean(y_pred_RF == y_test)\n",
    "print(\"The accuracy of Random Forest is {0:.2%}\".format(accuracy_RF))"
   ]
  },
  {
   "cell_type": "code",
   "execution_count": 34,
   "metadata": {},
   "outputs": [
    {
     "name": "stdout",
     "output_type": "stream",
     "text": [
      "Normalized confusion matrix\n",
      "[[0.685 0.008 0.012 0.071 0.083 0.085 0.017 0.019 0.013 0.007]\n",
      " [0.002 0.961 0.003 0.    0.003 0.001 0.001 0.008 0.018 0.003]\n",
      " [0.006 0.008 0.955 0.    0.005 0.    0.003 0.016 0.005 0.002]\n",
      " [0.066 0.013 0.    0.708 0.075 0.104 0.013 0.004 0.016 0.001]\n",
      " [0.063 0.013 0.011 0.081 0.712 0.065 0.019 0.017 0.008 0.011]\n",
      " [0.024 0.009 0.005 0.036 0.045 0.852 0.005 0.002 0.008 0.014]\n",
      " [0.016 0.015 0.006 0.007 0.034 0.014 0.888 0.007 0.005 0.008]\n",
      " [0.027 0.029 0.03  0.005 0.003 0.001 0.002 0.882 0.019 0.002]\n",
      " [0.004 0.001 0.004 0.009 0.005 0.004 0.002 0.008 0.962 0.001]\n",
      " [0.007 0.013 0.002 0.    0.001 0.001 0.001 0.009 0.004 0.962]]\n"
     ]
    },
    {
     "data": {
      "image/png": "[encoded data removed]",
      "text/plain": [
       "<Figure size 720x720 with 2 Axes>"
      ]
     },
     "metadata": {
      "needs_background": "light"
     },
     "output_type": "display_data"
    }
   ],
   "source": [
    "plot_confusion_matrix(y_test, y_pred_RF, classes=class_names, normalize=True,\n",
    "                      title='Normalized confusion matrix for Random Forest - Sensitivity Test')\n",
    "plt.savefig('ConfusionMatrix/RF_Normalized_sensitive.png')"
   ]
  },
  {
   "cell_type": "code",
   "execution_count": null,
   "metadata": {},
   "outputs": [],
   "source": []
  }
 ],
 "metadata": {
  "kernelspec": {
   "display_name": "Python 3",
   "language": "python",
   "name": "python3"
  },
  "language_info": {
   "codemirror_mode": {
    "name": "ipython",
    "version": 3
   },
   "file_extension": ".py",
   "mimetype": "text/x-python",
   "name": "python",
   "nbconvert_exporter": "python",
   "pygments_lexer": "ipython3",
   "version": "3.7.0"
  }
 },
 "nbformat": 4,
 "nbformat_minor": 2
}
