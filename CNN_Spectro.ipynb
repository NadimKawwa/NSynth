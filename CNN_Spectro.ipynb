{
 "cells": [
  {
   "cell_type": "code",
   "execution_count": 1,
   "metadata": {},
   "outputs": [
    {
     "name": "stderr",
     "output_type": "stream",
     "text": [
      "Using TensorFlow backend.\n"
     ]
    }
   ],
   "source": [
    "import numpy as np\n",
    "import pandas as pd\n",
    "import librosa\n",
    "import os\n",
    "import glob\n",
    "import re\n",
    "import seaborn as sns\n",
    "import matplotlib.pyplot as plt\n",
    "import scipy\n",
    "import time\n",
    "import collections\n",
    "import keras\n",
    "from keras.utils import np_utils\n",
    "from keras.layers import Conv2D, MaxPooling2D, GlobalAveragePooling2D\n",
    "from keras.layers import Dense, Dropout, Activation, Flatten\n",
    "from keras.preprocessing.image import ImageDataGenerator\n",
    "from keras.models import Sequential\n",
    "import tensorflow as tf\n",
    "import pickle\n",
    "from keras.utils.vis_utils import plot_model"
   ]
  },
  {
   "cell_type": "markdown",
   "metadata": {},
   "source": [
    "### Load Data"
   ]
  },
  {
   "cell_type": "code",
   "execution_count": 3,
   "metadata": {},
   "outputs": [],
   "source": [
    "#load features\n",
    "with open(\"X_train.pickle\", 'rb') as f:\n",
    "    X_train = pickle.load(f)\n",
    "    \n",
    "with open(\"X_test.pickle\", 'rb') as f:\n",
    "    X_test = pickle.load(f)\n",
    "    \n",
    "with open(\"X_valid.pickle\", 'rb') as f:\n",
    "    X_valid = pickle.load(f)\n"
   ]
  },
  {
   "cell_type": "code",
   "execution_count": 29,
   "metadata": {},
   "outputs": [],
   "source": [
    "#load targets\n",
    "with open(\"y_train.pickle\", 'rb') as f:\n",
    "    y_train = pickle.load(f)\n",
    "    \n",
    "with open(\"y_test.pickle\", 'rb') as f:\n",
    "    y_test = pickle.load(f)\n",
    "    \n",
    "with open(\"y_valid.pickle\", 'rb') as f:\n",
    "    y_valid = pickle.load(f)"
   ]
  },
  {
   "cell_type": "markdown",
   "metadata": {},
   "source": [
    "# User Defined  CNN"
   ]
  },
  {
   "cell_type": "code",
   "execution_count": 30,
   "metadata": {},
   "outputs": [
    {
     "name": "stdout",
     "output_type": "stream",
     "text": [
      "The number of classes is 11\n",
      "Trained model will be saved as keras_nsynth_trained_2019_03_07.h5 in directory /home/ubuntu/NSynth/saved_models\n"
     ]
    }
   ],
   "source": [
    "#batch size\n",
    "batch_size = 1000\n",
    "#number of classes\n",
    "num_classes=y_train.shape[1]\n",
    "print(\"The number of classes is {}\".format(num_classes))\n",
    "#training epochs\n",
    "epochs = 30\n",
    "#assume we dont need data augmentation\n",
    "data_augmentation = False\n",
    "#where to save file\n",
    "save_dir = os.path.join(os.getcwd(), 'saved_models')\n",
    "#file name\n",
    "model_name = 'keras_nsynth_trained_2019_03_07.h5'\n",
    "\n",
    "print(\"Trained model will be saved as {} in directory {}\".format(model_name, save_dir))"
   ]
  },
  {
   "cell_type": "code",
   "execution_count": 36,
   "metadata": {},
   "outputs": [],
   "source": [
    "model = Sequential()\n",
    "model.add(Conv2D(32, (3, 3), padding='same',\n",
    "                 input_shape=X_train.shape[1:]))\n",
    "model.add(Activation('relu'))\n",
    "model.add(Conv2D(32, (3, 3)))\n",
    "model.add(Activation('relu'))\n",
    "model.add(MaxPooling2D(pool_size=(2, 2)))\n",
    "model.add(Dropout(0.25))\n",
    "\n",
    "model.add(Conv2D(64, (3, 3), padding='same'))\n",
    "model.add(Activation('relu'))\n",
    "model.add(Conv2D(64, (3, 3)))\n",
    "model.add(Activation('relu'))\n",
    "model.add(MaxPooling2D(pool_size=(2, 2)))\n",
    "model.add(Dropout(0.25))\n",
    "\n",
    "model.add(Conv2D(128, (3, 3), padding='same'))\n",
    "model.add(Activation('relu'))\n",
    "model.add(Conv2D(128, (3, 3)))\n",
    "model.add(Activation('relu'))\n",
    "model.add(MaxPooling2D(pool_size=(2, 2)))\n",
    "model.add(Dropout(0.25))\n",
    "\n",
    "model.add(Flatten())\n",
    "model.add(Dense(512))\n",
    "model.add(Activation('relu'))\n",
    "model.add(Dropout(0.5))\n",
    "model.add(Dense(num_classes))\n",
    "model.add(Activation('softmax'))"
   ]
  },
  {
   "cell_type": "code",
   "execution_count": 37,
   "metadata": {},
   "outputs": [
    {
     "name": "stdout",
     "output_type": "stream",
     "text": [
      "_________________________________________________________________\n",
      "Layer (type)                 Output Shape              Param #   \n",
      "=================================================================\n",
      "conv2d_19 (Conv2D)           (None, 100, 63, 32)       320       \n",
      "_________________________________________________________________\n",
      "activation_25 (Activation)   (None, 100, 63, 32)       0         \n",
      "_________________________________________________________________\n",
      "conv2d_20 (Conv2D)           (None, 98, 61, 32)        9248      \n",
      "_________________________________________________________________\n",
      "activation_26 (Activation)   (None, 98, 61, 32)        0         \n",
      "_________________________________________________________________\n",
      "max_pooling2d_10 (MaxPooling (None, 49, 30, 32)        0         \n",
      "_________________________________________________________________\n",
      "dropout_13 (Dropout)         (None, 49, 30, 32)        0         \n",
      "_________________________________________________________________\n",
      "conv2d_21 (Conv2D)           (None, 49, 30, 64)        18496     \n",
      "_________________________________________________________________\n",
      "activation_27 (Activation)   (None, 49, 30, 64)        0         \n",
      "_________________________________________________________________\n",
      "conv2d_22 (Conv2D)           (None, 47, 28, 64)        36928     \n",
      "_________________________________________________________________\n",
      "activation_28 (Activation)   (None, 47, 28, 64)        0         \n",
      "_________________________________________________________________\n",
      "max_pooling2d_11 (MaxPooling (None, 23, 14, 64)        0         \n",
      "_________________________________________________________________\n",
      "dropout_14 (Dropout)         (None, 23, 14, 64)        0         \n",
      "_________________________________________________________________\n",
      "conv2d_23 (Conv2D)           (None, 23, 14, 128)       73856     \n",
      "_________________________________________________________________\n",
      "activation_29 (Activation)   (None, 23, 14, 128)       0         \n",
      "_________________________________________________________________\n",
      "conv2d_24 (Conv2D)           (None, 21, 12, 128)       147584    \n",
      "_________________________________________________________________\n",
      "activation_30 (Activation)   (None, 21, 12, 128)       0         \n",
      "_________________________________________________________________\n",
      "max_pooling2d_12 (MaxPooling (None, 10, 6, 128)        0         \n",
      "_________________________________________________________________\n",
      "dropout_15 (Dropout)         (None, 10, 6, 128)        0         \n",
      "_________________________________________________________________\n",
      "flatten_4 (Flatten)          (None, 7680)              0         \n",
      "_________________________________________________________________\n",
      "dense_7 (Dense)              (None, 512)               3932672   \n",
      "_________________________________________________________________\n",
      "activation_31 (Activation)   (None, 512)               0         \n",
      "_________________________________________________________________\n",
      "dropout_16 (Dropout)         (None, 512)               0         \n",
      "_________________________________________________________________\n",
      "dense_8 (Dense)              (None, 11)                5643      \n",
      "_________________________________________________________________\n",
      "activation_32 (Activation)   (None, 11)                0         \n",
      "=================================================================\n",
      "Total params: 4,224,747\n",
      "Trainable params: 4,224,747\n",
      "Non-trainable params: 0\n",
      "_________________________________________________________________\n"
     ]
    }
   ],
   "source": [
    "model.summary()"
   ]
  },
  {
   "cell_type": "code",
   "execution_count": 38,
   "metadata": {},
   "outputs": [],
   "source": [
    "# initiate ADAM optimizer\n",
    "opt = keras.optimizers.Adam(lr=0.0001, beta_1=0.9, beta_2=0.999, epsilon=None, decay=0.0, amsgrad=False)\n",
    "\n",
    "\n",
    "# Let's train the model\n",
    "model.compile(loss='categorical_crossentropy',\n",
    "              optimizer=opt,\n",
    "              metrics=['accuracy'])"
   ]
  },
  {
   "cell_type": "code",
   "execution_count": 39,
   "metadata": {},
   "outputs": [
    {
     "data": {
      "text/plain": [
       "(100, 63, 1)"
      ]
     },
     "execution_count": 39,
     "metadata": {},
     "output_type": "execute_result"
    }
   ],
   "source": [
    "X_train.shape[1:]"
   ]
  },
  {
   "cell_type": "code",
   "execution_count": 40,
   "metadata": {},
   "outputs": [
    {
     "name": "stdout",
     "output_type": "stream",
     "text": [
      "WARNING:tensorflow:From /home/ubuntu/anaconda3/lib/python3.7/site-packages/tensorflow/python/ops/math_ops.py:3066: to_int32 (from tensorflow.python.ops.math_ops) is deprecated and will be removed in a future version.\n",
      "Instructions for updating:\n",
      "Use tf.cast instead.\n",
      "Train on 50000 samples, validate on 12678 samples\n",
      "Epoch 1/30\n",
      "50000/50000 [==============================] - 1439s 29ms/step - loss: 3.5483 - acc: 0.1903 - val_loss: 2.2171 - val_acc: 0.2603\n",
      "Epoch 2/30\n",
      "50000/50000 [==============================] - 1435s 29ms/step - loss: 2.2063 - acc: 0.2223 - val_loss: 2.1614 - val_acc: 0.2349\n",
      "Epoch 3/30\n",
      "50000/50000 [==============================] - 1436s 29ms/step - loss: 2.1297 - acc: 0.2411 - val_loss: 2.1006 - val_acc: 0.2546\n",
      "Epoch 4/30\n",
      "50000/50000 [==============================] - 1436s 29ms/step - loss: 2.0826 - acc: 0.2595 - val_loss: 2.0466 - val_acc: 0.2872\n",
      "Epoch 5/30\n",
      "50000/50000 [==============================] - 1434s 29ms/step - loss: 2.0273 - acc: 0.2836 - val_loss: 1.9565 - val_acc: 0.3028\n",
      "Epoch 6/30\n",
      "50000/50000 [==============================] - 1434s 29ms/step - loss: 1.9596 - acc: 0.3107 - val_loss: 1.8933 - val_acc: 0.3012\n",
      "Epoch 7/30\n",
      "50000/50000 [==============================] - 1433s 29ms/step - loss: 1.8982 - acc: 0.3312 - val_loss: 1.8479 - val_acc: 0.3112\n",
      "Epoch 8/30\n",
      "50000/50000 [==============================] - 1433s 29ms/step - loss: 1.8270 - acc: 0.3567 - val_loss: 1.7633 - val_acc: 0.3280\n",
      "Epoch 9/30\n",
      "50000/50000 [==============================] - 1432s 29ms/step - loss: 1.7682 - acc: 0.3747 - val_loss: 1.7396 - val_acc: 0.3217\n",
      "Epoch 10/30\n",
      "50000/50000 [==============================] - 1431s 29ms/step - loss: 1.7073 - acc: 0.3936 - val_loss: 1.6859 - val_acc: 0.3352\n",
      "Epoch 11/30\n",
      "50000/50000 [==============================] - 1436s 29ms/step - loss: 1.6546 - acc: 0.4102 - val_loss: 1.6406 - val_acc: 0.3417\n",
      "Epoch 12/30\n",
      "50000/50000 [==============================] - 1436s 29ms/step - loss: 1.6025 - acc: 0.4243 - val_loss: 1.6154 - val_acc: 0.3486\n",
      "Epoch 13/30\n",
      "50000/50000 [==============================] - 1438s 29ms/step - loss: 1.5549 - acc: 0.4424 - val_loss: 1.5730 - val_acc: 0.3690\n",
      "Epoch 14/30\n",
      "50000/50000 [==============================] - 1438s 29ms/step - loss: 1.5152 - acc: 0.4524 - val_loss: 1.5864 - val_acc: 0.3763\n",
      "Epoch 15/30\n",
      "50000/50000 [==============================] - 1440s 29ms/step - loss: 1.4749 - acc: 0.4709 - val_loss: 1.5659 - val_acc: 0.3709\n",
      "Epoch 16/30\n",
      "50000/50000 [==============================] - 1442s 29ms/step - loss: 1.4197 - acc: 0.4888 - val_loss: 1.5565 - val_acc: 0.3898\n",
      "Epoch 17/30\n",
      "50000/50000 [==============================] - 1439s 29ms/step - loss: 1.3741 - acc: 0.5047 - val_loss: 1.5393 - val_acc: 0.4146\n",
      "Epoch 18/30\n",
      "50000/50000 [==============================] - 1437s 29ms/step - loss: 1.3296 - acc: 0.5220 - val_loss: 1.4941 - val_acc: 0.4504\n",
      "Epoch 19/30\n",
      "50000/50000 [==============================] - 1434s 29ms/step - loss: 1.2908 - acc: 0.5340 - val_loss: 1.5360 - val_acc: 0.4508\n",
      "Epoch 20/30\n",
      "50000/50000 [==============================] - 1431s 29ms/step - loss: 1.2463 - acc: 0.5489 - val_loss: 1.5198 - val_acc: 0.4528\n",
      "Epoch 21/30\n",
      "50000/50000 [==============================] - 1433s 29ms/step - loss: 1.2099 - acc: 0.5610 - val_loss: 1.5156 - val_acc: 0.4653\n",
      "Epoch 22/30\n",
      "50000/50000 [==============================] - 1434s 29ms/step - loss: 1.1751 - acc: 0.5763 - val_loss: 1.4799 - val_acc: 0.4818\n",
      "Epoch 23/30\n",
      "50000/50000 [==============================] - 1434s 29ms/step - loss: 1.1429 - acc: 0.5852 - val_loss: 1.4986 - val_acc: 0.4846\n",
      "Epoch 24/30\n",
      "50000/50000 [==============================] - 1435s 29ms/step - loss: 1.1145 - acc: 0.5954 - val_loss: 1.5228 - val_acc: 0.4759\n",
      "Epoch 25/30\n",
      "50000/50000 [==============================] - 1434s 29ms/step - loss: 1.0821 - acc: 0.6081 - val_loss: 1.5217 - val_acc: 0.4922\n",
      "Epoch 26/30\n",
      "50000/50000 [==============================] - 1434s 29ms/step - loss: 1.0583 - acc: 0.6141 - val_loss: 1.4919 - val_acc: 0.5113\n",
      "Epoch 27/30\n",
      "50000/50000 [==============================] - 1435s 29ms/step - loss: 1.0319 - acc: 0.6235 - val_loss: 1.5258 - val_acc: 0.5094\n",
      "Epoch 28/30\n",
      "50000/50000 [==============================] - 1433s 29ms/step - loss: 1.0058 - acc: 0.6343 - val_loss: 1.5211 - val_acc: 0.5125\n",
      "Epoch 29/30\n",
      "50000/50000 [==============================] - 1433s 29ms/step - loss: 0.9852 - acc: 0.6392 - val_loss: 1.5293 - val_acc: 0.5277\n",
      "Epoch 30/30\n",
      "50000/50000 [==============================] - 1444s 29ms/step - loss: 0.9671 - acc: 0.6452 - val_loss: 1.5135 - val_acc: 0.5333\n"
     ]
    }
   ],
   "source": [
    "history = model.fit(X_train, y_train,\n",
    "          batch_size=batch_size,\n",
    "          epochs=epochs,\n",
    "          validation_data=(X_valid, y_valid),\n",
    "          shuffle=True)\n"
   ]
  },
  {
   "cell_type": "code",
   "execution_count": 41,
   "metadata": {},
   "outputs": [
    {
     "data": {
      "image/png": "[encoded data removed]",
      "text/plain": [
       "<Figure size 432x288 with 1 Axes>"
      ]
     },
     "metadata": {
      "needs_background": "light"
     },
     "output_type": "display_data"
    }
   ],
   "source": [
    "# Plot training & validation accuracy values\n",
    "plt.plot(history.history['acc'])\n",
    "plt.plot(history.history['val_acc'])\n",
    "plt.title('Model accuracy')\n",
    "plt.ylabel('Accuracy')\n",
    "plt.xlabel('Epoch')\n",
    "plt.legend(['Train', 'Valid'], loc='upper left')\n",
    "plt.savefig('2019_03_07_accuracy.png')\n",
    "plt.show()\n",
    "\n"
   ]
  },
  {
   "cell_type": "code",
   "execution_count": 42,
   "metadata": {},
   "outputs": [
    {
     "data": {
      "image/png": "[encoded data removed]",
      "text/plain": [
       "<Figure size 432x288 with 1 Axes>"
      ]
     },
     "metadata": {
      "needs_background": "light"
     },
     "output_type": "display_data"
    }
   ],
   "source": [
    "# Plot training & validation loss values\n",
    "plt.plot(history.history['loss'])\n",
    "plt.plot(history.history['val_loss'])\n",
    "plt.title('Model loss')\n",
    "plt.ylabel('Loss')\n",
    "plt.xlabel('Epoch')\n",
    "plt.legend(['Train', 'Valid'], loc='upper left')\n",
    "plt.savefig('2019_03_07_loss.png')\n",
    "plt.show()"
   ]
  },
  {
   "cell_type": "code",
   "execution_count": 43,
   "metadata": {},
   "outputs": [
    {
     "name": "stdout",
     "output_type": "stream",
     "text": [
      "Saved trained model at /home/ubuntu/NSynth/saved_models/keras_nsynth_trained_2019_03_07.h5 \n"
     ]
    }
   ],
   "source": [
    "# Save model and weights\n",
    "if not os.path.isdir(save_dir):\n",
    "    os.makedirs(save_dir)\n",
    "model_path = os.path.join(save_dir, model_name)\n",
    "model.save(model_path)\n",
    "print('Saved trained model at %s ' % model_path)"
   ]
  },
  {
   "cell_type": "code",
   "execution_count": 44,
   "metadata": {},
   "outputs": [
    {
     "name": "stdout",
     "output_type": "stream",
     "text": [
      "4096/4096 [==============================] - 30s 7ms/step\n",
      "Test loss: 1.4932936248369515\n",
      "Test accuracy: 0.544921875\n"
     ]
    }
   ],
   "source": [
    "# Score trained model.\n",
    "scores = model.evaluate(X_test, y_test, verbose=1)\n",
    "print('Test loss:', scores[0])\n",
    "print('Test accuracy:', scores[1])"
   ]
  },
  {
   "cell_type": "code",
   "execution_count": null,
   "metadata": {},
   "outputs": [],
   "source": []
  }
 ],
 "metadata": {
  "kernelspec": {
   "display_name": "Python 3",
   "language": "python",
   "name": "python3"
  },
  "language_info": {
   "codemirror_mode": {
    "name": "ipython",
    "version": 3
   },
   "file_extension": ".py",
   "mimetype": "text/x-python",
   "name": "python",
   "nbconvert_exporter": "python",
   "pygments_lexer": "ipython3",
   "version": "3.7.1"
  }
 },
 "nbformat": 4,
 "nbformat_minor": 2
}
